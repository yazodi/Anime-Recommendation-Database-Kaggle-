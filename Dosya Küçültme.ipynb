{
 "cells": [
  {
   "cell_type": "code",
   "execution_count": 1,
   "id": "11bc68ca-7559-4407-8a0c-650a66fea6d0",
   "metadata": {},
   "outputs": [],
   "source": [
    "import pandas as pd\n",
    "\n",
    "# rating.csv dosyasını okuyun (yerelde)\n",
    "df = pd.read_csv(\"rating.csv\")\n",
    "\n",
    "# İlk 50000 satırı alın\n",
    "df_sample = df.head(50000)\n",
    "\n",
    "# Yeni dosyaya kaydedin\n",
    "df_sample.to_csv(\"rating_sample.csv\", index=False)\n"
   ]
  },
  {
   "cell_type": "code",
   "execution_count": null,
   "id": "c2e4edc5-501d-45ff-afa6-5fcf1fa1e446",
   "metadata": {},
   "outputs": [],
   "source": []
  }
 ],
 "metadata": {
  "kernelspec": {
   "display_name": "Python 3 (ipykernel)",
   "language": "python",
   "name": "python3"
  },
  "language_info": {
   "codemirror_mode": {
    "name": "ipython",
    "version": 3
   },
   "file_extension": ".py",
   "mimetype": "text/x-python",
   "name": "python",
   "nbconvert_exporter": "python",
   "pygments_lexer": "ipython3",
   "version": "3.12.9"
  }
 },
 "nbformat": 4,
 "nbformat_minor": 5
}
